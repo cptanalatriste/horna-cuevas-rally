{
 "cells": [
  {
   "cell_type": "markdown",
   "metadata": {},
   "source": [
    "# Collaboration and Competition\n",
    "\n",
    "---\n",
    "\n",
    "In this notebook, you will learn how to use the Unity ML-Agents environment for the third project of the [Deep Reinforcement Learning Nanodegree](https://www.udacity.com/course/deep-reinforcement-learning-nanodegree--nd893) program.\n",
    "\n",
    "### 1. Start the Environment\n",
    "\n",
    "We begin by importing the necessary packages.  If the code cell below returns an error, please revisit the project instructions to double-check that you have installed [Unity ML-Agents](https://github.com/Unity-Technologies/ml-agents/blob/master/docs/Installation.md) and [NumPy](http://www.numpy.org/)."
   ]
  },
  {
   "cell_type": "code",
   "execution_count": 1,
   "metadata": {},
   "outputs": [],
   "source": [
    "from unityagents import UnityEnvironment\n",
    "import numpy as np\n",
    "from tennis_agent import TennisAgent\n",
    "from tennis_manager import TennisManager\n",
    "\n",
    "import matplotlib.pyplot as plt\n",
    "%matplotlib inline\n",
    "is_ipython = 'inline' in plt.get_backend()\n",
    "if is_ipython:\n",
    "    from IPython import display\n",
    "\n",
    "plt.ion()"
   ]
  },
  {
   "cell_type": "markdown",
   "metadata": {},
   "source": [
    "Next, we will start the environment!  **_Before running the code cell below_**, change the `file_name` parameter to match the location of the Unity environment that you downloaded.\n",
    "\n",
    "- **Mac**: `\"path/to/Tennis.app\"`\n",
    "- **Windows** (x86): `\"path/to/Tennis_Windows_x86/Tennis.exe\"`\n",
    "- **Windows** (x86_64): `\"path/to/Tennis_Windows_x86_64/Tennis.exe\"`\n",
    "- **Linux** (x86): `\"path/to/Tennis_Linux/Tennis.x86\"`\n",
    "- **Linux** (x86_64): `\"path/to/Tennis_Linux/Tennis.x86_64\"`\n",
    "- **Linux** (x86, headless): `\"path/to/Tennis_Linux_NoVis/Tennis.x86\"`\n",
    "- **Linux** (x86_64, headless): `\"path/to/Tennis_Linux_NoVis/Tennis.x86_64\"`\n",
    "\n",
    "For instance, if you are using a Mac, then you downloaded `Tennis.app`.  If this file is in the same folder as the notebook, then the line below should appear as follows:\n",
    "```\n",
    "env = UnityEnvironment(file_name=\"Tennis.app\")\n",
    "```"
   ]
  },
  {
   "cell_type": "code",
   "execution_count": 2,
   "metadata": {},
   "outputs": [
    {
     "name": "stderr",
     "output_type": "stream",
     "text": [
      "INFO:unityagents:\n",
      "'Academy' started successfully!\n",
      "Unity Academy name: Academy\n",
      "        Number of Brains: 1\n",
      "        Number of External Brains : 1\n",
      "        Lesson number : 0\n",
      "        Reset Parameters :\n",
      "\t\t\n",
      "Unity brain name: TennisBrain\n",
      "        Number of Visual Observations (per agent): 0\n",
      "        Vector Observation space type: continuous\n",
      "        Vector Observation space size (per agent): 8\n",
      "        Number of stacked Vector Observation: 3\n",
      "        Vector Action space type: continuous\n",
      "        Vector Action space size (per agent): 2\n",
      "        Vector Action descriptions: , \n"
     ]
    }
   ],
   "source": [
    "env = UnityEnvironment(file_name=\"Tennis.app\")"
   ]
  },
  {
   "cell_type": "markdown",
   "metadata": {},
   "source": [
    "Environments contain **_brains_** which are responsible for deciding the actions of their associated agents. Here we check for the first brain available, and set it as the default brain we will be controlling from Python."
   ]
  },
  {
   "cell_type": "code",
   "execution_count": 3,
   "metadata": {},
   "outputs": [],
   "source": [
    "# get the default brain\n",
    "brain_name = env.brain_names[0]\n",
    "brain = env.brains[brain_name]"
   ]
  },
  {
   "cell_type": "markdown",
   "metadata": {},
   "source": [
    "### 2. Examine the State and Action Spaces\n",
    "\n",
    "In this environment, two agents control rackets to bounce a ball over a net. If an agent hits the ball over the net, it receives a reward of +0.1.  If an agent lets a ball hit the ground or hits the ball out of bounds, it receives a reward of -0.01.  Thus, the goal of each agent is to keep the ball in play.\n",
    "\n",
    "The observation space consists of 8 variables corresponding to the position and velocity of the ball and racket. Two continuous actions are available, corresponding to movement toward (or away from) the net, and jumping. \n",
    "\n",
    "Run the code cell below to print some information about the environment."
   ]
  },
  {
   "cell_type": "code",
   "execution_count": 4,
   "metadata": {},
   "outputs": [
    {
     "name": "stdout",
     "output_type": "stream",
     "text": [
      "Number of agents: 2\n",
      "Size of each action: 2\n",
      "There are 2 agents. Each observes a state with length: 24\n",
      "The state for the first agent looks like: [ 0.          0.          0.          0.          0.          0.\n",
      "  0.          0.          0.          0.          0.          0.\n",
      "  0.          0.          0.          0.         -6.65278625 -1.5\n",
      " -0.          0.          6.83172083  6.         -0.          0.        ]\n"
     ]
    }
   ],
   "source": [
    "# reset the environment\n",
    "env_info = env.reset(train_mode=True)[brain_name]\n",
    "\n",
    "# number of agents \n",
    "num_agents = len(env_info.agents)\n",
    "print('Number of agents:', num_agents)\n",
    "\n",
    "# size of each action\n",
    "action_size = brain.vector_action_space_size\n",
    "print('Size of each action:', action_size)\n",
    "\n",
    "# examine the state space \n",
    "states = env_info.vector_observations\n",
    "state_size = states.shape[1]\n",
    "print('There are {} agents. Each observes a state with length: {}'.format(states.shape[0], state_size))\n",
    "print('The state for the first agent looks like:', states[0])"
   ]
  },
  {
   "cell_type": "markdown",
   "metadata": {},
   "source": [
    "### 3. Take Random Actions in the Environment\n",
    "\n",
    "In the next code cell, you will learn how to use the Python API to control the agents and receive feedback from the environment.\n",
    "\n",
    "Once this cell is executed, you will watch the agents' performance, if they select actions at random with each time step.  A window should pop up that allows you to observe the agents.\n",
    "\n",
    "Of course, as part of the project, you'll have to change the code so that the agents are able to use their experiences to gradually choose better actions when interacting with the environment!"
   ]
  },
  {
   "cell_type": "code",
   "execution_count": 5,
   "metadata": {},
   "outputs": [],
   "source": [
    "test_episodes = 5\n",
    "# Temporatily disabled\n",
    "test_episodes = 0\n",
    "\n",
    "for i in range(test_episodes):                                      # play game for 5 episodes\n",
    "    env_info = env.reset(train_mode=False)[brain_name]     # reset the environment    \n",
    "    states = env_info.vector_observations                  # get the current state (for each agent)\n",
    "    scores = np.zeros(num_agents)                          # initialize the score (for each agent)\n",
    "    while True:\n",
    "        actions = np.random.randn(num_agents, action_size) # select an action (for each agent)\n",
    "        actions = np.clip(actions, -1, 1)                  # all actions between -1 and 1\n",
    "        env_info = env.step(actions)[brain_name]           # send all actions to tne environment\n",
    "        next_states = env_info.vector_observations         # get next state (for each agent)\n",
    "        rewards = env_info.rewards                         # get reward (for each agent)\n",
    "        dones = env_info.local_done                        # see if episode finished\n",
    "        scores += env_info.rewards                         # update the score (for each agent)\n",
    "        states = next_states                               # roll over states to next time step\n",
    "        if np.any(dones):                                  # exit loop if episode finished\n",
    "            break\n",
    "    print('Score (max over agents) from episode {}: {}'.format(i, np.max(scores)))"
   ]
  },
  {
   "cell_type": "markdown",
   "metadata": {},
   "source": [
    "When finished, you can close the environment."
   ]
  },
  {
   "cell_type": "code",
   "execution_count": 6,
   "metadata": {},
   "outputs": [],
   "source": [
    "# Temporarily disabled\n",
    "# env.close()"
   ]
  },
  {
   "cell_type": "markdown",
   "metadata": {},
   "source": [
    "### 4. It's Your Turn!\n",
    "\n",
    "Now it's your turn to train your own agent to solve the environment!  When training the environment, set `train_mode=True`, so that the line for resetting the environment looks like the following:\n",
    "```python\n",
    "env_info = env.reset(train_mode=True)[brain_name]\n",
    "```"
   ]
  },
  {
   "cell_type": "markdown",
   "metadata": {},
   "source": [
    "## 5. The Agents Before Training\n",
    "\n",
    "We start by exposing our agents to the environment before triggering training, to see how they perform:"
   ]
  },
  {
   "cell_type": "code",
   "execution_count": 7,
   "metadata": {},
   "outputs": [
    {
     "name": "stdout",
     "output_type": "stream",
     "text": [
      "Horna and Cueva are ready to play ...\n"
     ]
    }
   ],
   "source": [
    "def start_rally(agents, environment, environment_params):\n",
    "    \n",
    "    brain_name = environment_params['brain_name']\n",
    "\n",
    "    env_info = environment.reset(train_mode=False)[brain_name]     \n",
    "    states = env_info.vector_observations                 \n",
    "    scores = np.zeros(len(agents))                        \n",
    "    while True:\n",
    "\n",
    "        actions = [agent.act(states=states, action_parameters={'add_noise': False}) \n",
    "                   for agent in agents]\n",
    "        \n",
    "        env_info = environment.step(actions)[brain_name]           \n",
    "        next_states = env_info.vector_observations       \n",
    "        rewards = env_info.rewards                       \n",
    "        dones = env_info.local_done\n",
    "        \n",
    "        scores += rewards                       \n",
    "        states = next_states                              \n",
    "        if np.any(dones):                                  \n",
    "            break\n",
    "    print('Scores for this episode: {}'.format(scores))\n",
    "\n",
    "environment_params = {'brain_name': brain_name}\n",
    "\n",
    "horna_and_cueva = [TennisAgent(index=index, num_agents=num_agents, state_size=state_size, action_size=action_size) \n",
    "                   for index in range(num_agents)]\n",
    "print(\"Horna and Cueva are ready to play ...\")\n",
    "\n",
    "for _ in range(test_episodes):\n",
    "    start_rally(agents=horna_and_cueva, environment=env, environment_params=environment_params)"
   ]
  },
  {
   "cell_type": "markdown",
   "metadata": {},
   "source": [
    "## 6. They're not performing good\n",
    "\n",
    "So some training is needed:"
   ]
  },
  {
   "cell_type": "code",
   "execution_count": null,
   "metadata": {},
   "outputs": [
    {
     "name": "stdout",
     "output_type": "stream",
     "text": [
      "Starting training ...\n",
      "Episode 100\tAverage Score: 0.00\n",
      "Episode 100 Average score over the last 100  episodes:  0.0010000000149011613\n",
      "Episode 200\tAverage Score: 0.00\n",
      "Episode 200 Average score over the last 100  episodes:  0.0\n",
      "Episode 300\tAverage Score: 0.00\n",
      "Episode 300 Average score over the last 100  episodes:  0.0\n",
      "Episode 400\tAverage Score: 0.00\n",
      "Episode 400 Average score over the last 100  episodes:  0.0\n",
      "Episode 500\tAverage Score: 0.00\n",
      "Episode 500 Average score over the last 100  episodes:  0.0\n",
      "Episode 600\tAverage Score: 0.00\n",
      "Episode 600 Average score over the last 100  episodes:  0.0\n",
      "Episode 700\tAverage Score: 0.00\n",
      "Episode 700 Average score over the last 100  episodes:  0.0\n",
      "Episode 800\tAverage Score: 0.00\n",
      "Episode 800 Average score over the last 100  episodes:  0.0\n",
      "Episode 900\tAverage Score: 0.00\n",
      "Episode 900 Average score over the last 100  episodes:  0.0\n",
      "Episode 1000\tAverage Score: 0.00\n",
      "Episode 1000 Average score over the last 100  episodes:  0.0009000000171363354\n",
      "Episode 1100\tAverage Score: 0.01\n",
      "Episode 1100 Average score over the last 100  episodes:  0.01170000022277236\n",
      "Episode 1200\tAverage Score: 0.01\n",
      "Episode 1200 Average score over the last 100  episodes:  0.010800000205636024\n",
      "Episode 1300\tAverage Score: 0.01\n",
      "Episode 1300 Average score over the last 100  episodes:  0.009000000171363353\n",
      "Episode 1400\tAverage Score: 0.01\n",
      "Episode 1400 Average score over the last 100  episodes:  0.010000000186264514\n",
      "Episode 1500\tAverage Score: 0.02\n",
      "Episode 1500 Average score over the last 100  episodes:  0.015500000286847353\n",
      "Episode 1600\tAverage Score: 0.01\n",
      "Episode 1600 Average score over the last 100  episodes:  0.008100000154227018\n",
      "Episode 1700\tAverage Score: 0.01\n",
      "Episode 1700 Average score over the last 100  episodes:  0.013500000257045031\n",
      "Episode 1800\tAverage Score: 0.02\n",
      "Episode 1800 Average score over the last 100  episodes:  0.018900000359863042\n",
      "Episode 1900\tAverage Score: 0.02\n",
      "Episode 1900 Average score over the last 100  episodes:  0.016200000308454036\n",
      "Episode 2000\tAverage Score: 0.02\n",
      "Episode 2000 Average score over the last 100  episodes:  0.018000000342726707\n",
      "Episode 2100\tAverage Score: 0.02\n",
      "Episode 2100 Average score over the last 100  episodes:  0.015400000289082528\n",
      "Episode 2200\tAverage Score: 0.02\n",
      "Episode 2200 Average score over the last 100  episodes:  0.01630000030621886\n",
      "Episode 2300\tAverage Score: 0.01\n",
      "Episode 2300 Average score over the last 100  episodes:  0.013500000257045031\n",
      "Episode 2400\tAverage Score: 0.02\n",
      "Episode 2400 Average score over the last 100  episodes:  0.020200000330805778\n",
      "Episode 2500\tAverage Score: 0.02\n",
      "Episode 2500 Average score over the last 100  episodes:  0.020100000351667403\n",
      "Episode 2600\tAverage Score: 0.02\n",
      "Episode 2600 Average score over the last 100  episodes:  0.019000000357627868\n",
      "Episode 2700\tAverage Score: 0.01\n",
      "Episode 2700 Average score over the last 100  episodes:  0.011800000220537185\n",
      "Episode 2800\tAverage Score: 0.02\n",
      "Episode 2800 Average score over the last 100  episodes:  0.017200000323355197\n",
      "Episode 2900\tAverage Score: 0.02\n",
      "Episode 2900 Average score over the last 100  episodes:  0.015300000291317702\n",
      "Episode 3000\tAverage Score: 0.02\n",
      "Episode 3000 Average score over the last 100  episodes:  0.019800000376999378\n",
      "Episode 3100\tAverage Score: 0.02\n",
      "Episode 3100 Average score over the last 100  episodes:  0.019000000357627868\n",
      "Episode 3200\tAverage Score: 0.02\n",
      "Episode 3200 Average score over the last 100  episodes:  0.017800000309944154\n",
      "Episode 3300\tAverage Score: 0.02\n",
      "Episode 3300 Average score over the last 100  episodes:  0.017700000274926422\n",
      "Episode 3400\tAverage Score: 0.02\n",
      "Episode 3400 Average score over the last 100  episodes:  0.01550000024959445\n",
      "Episode 3500\tAverage Score: 0.02\n",
      "Episode 3500 Average score over the last 100  episodes:  0.018600000292062758\n",
      "Episode 3554\tAverage Score: 0.02"
     ]
    }
   ],
   "source": [
    "score_window = 100\n",
    "num_episodes = 10000\n",
    "network_file = \"checkpoint.pth\"\n",
    "target_score = 0.5\n",
    "\n",
    "tennis_manager = TennisManager(environment_params=environment_params)\n",
    "\n",
    "scores, avg_scores = tennis_manager.start_training(agents=horna_and_cueva, environment=env,\n",
    "                                      score_window=score_window,\n",
    "                                      num_episodes=num_episodes,\n",
    "                                      network_file=network_file,\n",
    "                                      target_score=target_score)\n",
    "\n",
    "fig = plt.figure()\n",
    "ax = fig.add_subplot(111)\n",
    "plt.plot(np.arange(len(scores)), scores)\n",
    "plt.plot(np.arange(len(avg_scores)), avg_scores)\n",
    "plt.ylabel('Score')\n",
    "plt.xlabel('Episode #')\n",
    "plt.show()"
   ]
  }
 ],
 "metadata": {
  "kernelspec": {
   "display_name": "Python 3",
   "language": "python",
   "name": "python3"
  },
  "language_info": {
   "codemirror_mode": {
    "name": "ipython",
    "version": 3
   },
   "file_extension": ".py",
   "mimetype": "text/x-python",
   "name": "python",
   "nbconvert_exporter": "python",
   "pygments_lexer": "ipython3",
   "version": "3.6.9"
  }
 },
 "nbformat": 4,
 "nbformat_minor": 2
}
